{
 "cells": [
  {
   "cell_type": "code",
   "execution_count": 21,
   "id": "9c2c1a10-f8bc-4f9d-9173-66a667752cfe",
   "metadata": {},
   "outputs": [],
   "source": [
    "import pandas as pd\n",
    "import nltk\n",
    "from nltk.corpus import stopwords\n",
    "from nltk.tokenize import word_tokenize\n",
    "from nltk.stem import WordNetLemmatizer\n",
    "from nltk.stem.porter import PorterStemmer\n",
    "import re"
   ]
  },
  {
   "cell_type": "code",
   "execution_count": 22,
   "id": "24546c1c-261c-414b-b9af-12833dbcd827",
   "metadata": {},
   "outputs": [],
   "source": [
    "#nltk.download('wordnet')"
   ]
  },
  {
   "cell_type": "code",
   "execution_count": 23,
   "id": "adb686ba-0a41-4593-bf37-38ed80163ffa",
   "metadata": {},
   "outputs": [],
   "source": [
    "df = pd.read_csv('answers.csv')\n",
    "\n",
    "def preprocess_text(text):\n",
    "    text = re.sub(r'\\W', ' ', text)\n",
    "    text = text.lower()\n",
    "    words = word_tokenize(text)\n",
    "    words = [word for word in words if word not in stopwords.words('english')]\n",
    "    lemmatizer = WordNetLemmatizer()\n",
    "    words = [lemmatizer.lemmatize(word) for word in words]\n",
    "    stemmer = PorterStemmer()\n",
    "    words = [stemmer.stem(word) for word in words]\n",
    "    return words\n",
    "\n",
    "df['processed_answers'] = df['answer'].apply(preprocess_text)"
   ]
  },
  {
   "cell_type": "code",
   "execution_count": 24,
   "id": "be63df95-4d2b-4627-b0b4-e03a38cfd986",
   "metadata": {},
   "outputs": [],
   "source": [
    "from gensim.models import Word2Vec\n",
    "from sklearn.feature_extraction.text import CountVectorizer, TfidfVectorizer\n",
    "\n",
    "w2v_model_cbow = Word2Vec(sentences=df['processed_answers'], vector_size=100, window=5, min_count=1, sg=0)\n",
    "w2v_model_sg = Word2Vec(sentences=df['processed_answers'], vector_size=100, window=5, min_count=1, sg=1)\n",
    "\n",
    "vectorizer_bow = CountVectorizer()\n",
    "X_bow = vectorizer_bow.fit_transform(df['processed_answers'].apply(lambda x: ' '.join(x)))\n",
    "\n",
    "vectorizer_tfidf = TfidfVectorizer()\n",
    "X_tfidf = vectorizer_tfidf.fit_transform(df['processed_answers'].apply(lambda x: ' '.join(x)))"
   ]
  },
  {
   "cell_type": "code",
   "execution_count": 25,
   "id": "c44faf20-91e0-4eae-a8a3-d467af8e8cc4",
   "metadata": {},
   "outputs": [
    {
     "name": "stdout",
     "output_type": "stream",
     "text": [
      "SVR MSE: 1.0912853208973625, RMSE: 1.044646026602965, MAE: 0.723, R²: 0.147\n",
      "Linear Regression MSE: 5.37334611648882, RMSE: 2.3180479107405914, MAE: 1.515, R²: -3.201\n",
      "Decision Tree MSE: 1.4930769999078364, RMSE: 1.221915299809212, MAE: 0.768, R²: -0.167\n"
     ]
    }
   ],
   "source": [
    "from sklearn.svm import SVR\n",
    "from sklearn.linear_model import LinearRegression\n",
    "from sklearn.tree import DecisionTreeRegressor\n",
    "from sklearn.naive_bayes import GaussianNB\n",
    "from sklearn.metrics import mean_squared_error, mean_absolute_error, r2_score\n",
    "from sklearn.model_selection import train_test_split\n",
    "\n",
    "y = df['score']  # Assuming 'scores' is the target column\n",
    "\n",
    "X_train, X_test, y_train, y_test = train_test_split(X_bow, y, test_size=0.2, random_state=42)\n",
    "\n",
    "svr = SVR()\n",
    "svr.fit(X_train, y_train)\n",
    "y_pred_svr = svr.predict(X_test)\n",
    "\n",
    "lr = LinearRegression()\n",
    "lr.fit(X_train, y_train)\n",
    "y_pred_lr = lr.predict(X_test)\n",
    "\n",
    "dt = DecisionTreeRegressor()\n",
    "dt.fit(X_train, y_train)\n",
    "y_pred_dt = dt.predict(X_test)\n",
    "\n",
    "mse_svr = mean_squared_error(y_test, y_pred_svr)\n",
    "mse_lr = mean_squared_error(y_test, y_pred_lr)\n",
    "mse_dt = mean_squared_error(y_test, y_pred_dt)\n",
    "\n",
    "rmse_svr = mean_squared_error(y_test, y_pred_svr, squared=False)\n",
    "rmse_lr = mean_squared_error(y_test, y_pred_lr, squared=False)\n",
    "rmse_dt = mean_squared_error(y_test, y_pred_dt, squared=False)\n",
    "\n",
    "mae_svr = mean_absolute_error(y_test, y_pred_svr)\n",
    "mae_lr = mean_absolute_error(y_test, y_pred_lr)\n",
    "mae_dt = mean_absolute_error(y_test, y_pred_dt)\n",
    "\n",
    "r2_svr = r2_score(y_test, y_pred_svr)\n",
    "r2_lr = r2_score(y_test, y_pred_lr)\n",
    "r2_dt = r2_score(y_test, y_pred_dt)\n",
    "\n",
    "# results interpretaions\n",
    "print(f'SVR MSE: {mse_svr}, RMSE: {rmse_svr}, MAE: {mae_svr:.3f}, R²: {r2_svr:.3f}')\n",
    "print(f'Linear Regression MSE: {mse_lr}, RMSE: {rmse_lr}, MAE: {mae_lr:.3f}, R²: {r2_lr:.3f}')\n",
    "print(f'Decision Tree MSE: {mse_dt}, RMSE: {rmse_dt}, MAE: {mae_dt:.3f}, R²: {r2_dt:.3f}')"
   ]
  },
  {
   "cell_type": "markdown",
   "id": "238e9d82-3b3f-4a1a-b18a-3e747f540c72",
   "metadata": {},
   "source": [
    "SVR performs the best among the three models based on RMSE and R². It has the lowest errors and explains the highest proportion of variance in the data, although still relatively low.\r\n",
    "Linear regression and decision tree regression perform poorly, with negative R² values indicating poor model fits. These models might be suffering from overfitting or underfitting issues, or the data might not be suitable for linear models.\r\n",
    "It's important to further investigate the features, model complexity, and data characteristics to understand why SVR outperforms the other models and how to potentially improve model performance. This could involve feature engineering, hyperparameter tuning, or exploring more advanced regression techniques."
   ]
  },
  {
   "cell_type": "code",
   "execution_count": null,
   "id": "9d12b027-8a0d-4534-b062-7bebdf14321a",
   "metadata": {},
   "outputs": [],
   "source": []
  }
 ],
 "metadata": {
  "kernelspec": {
   "display_name": "Python 3 (ipykernel)",
   "language": "python",
   "name": "python3"
  },
  "language_info": {
   "codemirror_mode": {
    "name": "ipython",
    "version": 3
   },
   "file_extension": ".py",
   "mimetype": "text/x-python",
   "name": "python",
   "nbconvert_exporter": "python",
   "pygments_lexer": "ipython3",
   "version": "3.11.7"
  }
 },
 "nbformat": 4,
 "nbformat_minor": 5
}
